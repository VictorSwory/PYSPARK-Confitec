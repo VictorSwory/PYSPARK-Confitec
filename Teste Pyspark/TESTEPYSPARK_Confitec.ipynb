{
  "nbformat": 4,
  "nbformat_minor": 0,
  "metadata": {
    "colab": {
      "name": "TESTEPYSPARK-Confitec.ipynb",
      "provenance": [],
      "collapsed_sections": [],
      "toc_visible": true
    },
    "kernelspec": {
      "name": "python3",
      "display_name": "Python 3"
    },
    "language_info": {
      "name": "python"
    }
  },
  "cells": [
    {
      "cell_type": "code",
      "execution_count": 2,
      "metadata": {
        "colab": {
          "base_uri": "https://localhost:8080/"
        },
        "id": "brfYk4-osTMR",
        "outputId": "c8352846-7e24-4bbf-896a-f75a58a4e1b2"
      },
      "outputs": [
        {
          "output_type": "stream",
          "name": "stdout",
          "text": [
            "Collecting pyspark\n",
            "  Downloading pyspark-3.2.1.tar.gz (281.4 MB)\n",
            "\u001b[K     |████████████████████████████████| 281.4 MB 37 kB/s \n",
            "\u001b[?25hCollecting py4j\n",
            "  Downloading py4j-0.10.9.3-py2.py3-none-any.whl (198 kB)\n",
            "\u001b[K     |████████████████████████████████| 198 kB 57.3 MB/s \n",
            "\u001b[?25hBuilding wheels for collected packages: pyspark\n",
            "  Building wheel for pyspark (setup.py) ... \u001b[?25l\u001b[?25hdone\n",
            "  Created wheel for pyspark: filename=pyspark-3.2.1-py2.py3-none-any.whl size=281853642 sha256=5e8cffcecb50e33e61499d8eb82bd39293342218a32c22c1eb244cb583534b7f\n",
            "  Stored in directory: /root/.cache/pip/wheels/9f/f5/07/7cd8017084dce4e93e84e92efd1e1d5334db05f2e83bcef74f\n",
            "Successfully built pyspark\n",
            "Installing collected packages: py4j, pyspark\n",
            "Successfully installed py4j-0.10.9.3 pyspark-3.2.1\n"
          ]
        }
      ],
      "source": [
        "!pip install pyspark py4j\n"
      ]
    },
    {
      "cell_type": "code",
      "source": [
        "from pyspark.sql.functions import *\n",
        "from pyspark.sql import functions as f\n",
        "from pyspark.sql.functions import udf, array\n",
        "from pyspark.sql.types import DoubleType\n",
        "from pyspark.sql.types import IntegerType\n",
        "from pyspark.sql import SparkSession\n",
        "import functools\n",
        "from pyspark.sql.functions import expr\n",
        "from pyspark.sql.functions import unix_timestamp, from_unixtime\n",
        "from pyspark.sql.types import DateType\n",
        "from pyspark.sql import types as t\n",
        "from pyspark.sql.types import *\n",
        "import datetime \n",
        "from datetime import datetime"
      ],
      "metadata": {
        "id": "wmicSpOIxrMp"
      },
      "execution_count": 3,
      "outputs": []
    },
    {
      "cell_type": "code",
      "source": [
        "spark = SparkSession.builder.getOrCreate()\n",
        "df = spark.read.parquet(\"OriginaisNetflix.parquet\")\n",
        "df.show()"
      ],
      "metadata": {
        "colab": {
          "base_uri": "https://localhost:8080/"
        },
        "id": "4AI3WdMuxraN",
        "outputId": "5d99a66e-b6f5-43cd-fabe-88053a66fb5b"
      },
      "execution_count": 4,
      "outputs": [
        {
          "output_type": "stream",
          "name": "stdout",
          "text": [
            "+--------------------+--------------------+--------------------+---------+--------------------+-------------+--------------+-----------+---------+---------+----------+------+-----+--------+--------------------+\n",
            "|               Title|               Genre|         GenreLabels| Premiere|             Seasons|SeasonsParsed|EpisodesParsed|     Length|MinLength|MaxLength|    Status|Active|Table|Language|         dt_inclusao|\n",
            "+--------------------+--------------------+--------------------+---------+--------------------+-------------+--------------+-----------+---------+---------+----------+------+-----+--------+--------------------+\n",
            "|      House of Cards|     Political drama|     political,drama| 1-Feb-13|6 seasons, 73 epi...|            6|            73| 42–59 min.|       42|       59|     Ended|     0|Drama| English|2021-03-16T21:20:...|\n",
            "|       Hemlock Grove|     Horror/thriller|     horror,thriller|19-Apr-13|3 seasons, 33 epi...|            3|            33| 45–58 min.|       45|       58|     Ended|     0|Drama| English|2021-03-16T21:20:...|\n",
            "|Orange Is the New...|        Comedy-drama|        comedy-drama|11-Jul-13|6 seasons, 78 epi...|            6|            78| 50–92 min.|       50|       92|   Renewed|     1|Drama| English|2021-03-16T21:20:...|\n",
            "|          Marco Polo|    Historical drama|    historical,drama|12-Dec-14|2 seasons, 20 epi...|            2|            20| 48–65 min.|       48|       65|     Ended|     0|Drama| English|2021-03-16T21:20:...|\n",
            "|           Bloodline|            Thriller|            thriller|20-Mar-15|3 seasons, 33 epi...|            3|            33| 48–68 min.|       48|       68|     Ended|     0|Drama| English|2021-03-16T21:20:...|\n",
            "|              Sense8|     Science fiction|     science-fiction| 5-Jun-15|2 seasons, 24 epi...|            2|            24|45–152 min.|       45|      152|     Ended|     0|Drama| English|2021-03-16T21:20:...|\n",
            "|              Narcos|         Crime drama|         crime,drama|28-Aug-15|3 seasons, 30 epi...|            3|            30| 43–60 min.|       43|       60|     Ended|     0|Drama| English|2021-03-16T21:20:...|\n",
            "|     Stranger Things|Science fiction/h...|science-fiction,h...|15-Jul-16|2 seasons, 17 epi...|            2|            17| 42–62 min.|       42|       62|   Renewed|     1|Drama| English|2021-03-16T21:20:...|\n",
            "|        The Get Down|       Musical drama|       musical,drama|12-Aug-16|2 parts, 11 episodes|            0|            11| 50–93 min.|       50|       93|     Ended|     0|Drama| English|2021-03-16T21:20:...|\n",
            "|           The Crown|    Historical drama|    historical,drama| 4-Nov-16|2 seasons, 20 epi...|            2|            20| 54–61 min.|       54|       61|   Renewed|     1|Drama| English|2021-03-16T21:20:...|\n",
            "|Gilmore Girls: A ...|        Family drama|        family,drama|25-Nov-16|          4 episodes|            0|             4|88–102 min.|       88|      102|Miniseries|     0|Drama| English|2021-03-16T21:20:...|\n",
            "|              The OA|             Mystery|             mystery|16-Dec-16|2 parts, 16 episodes|            0|            16| 31–71 min.|       31|       71|   Pending|     1|Drama| English|2021-03-16T21:20:...|\n",
            "|A Series of Unfor...|Black-comedy mystery|black-comedy,mystery|13-Jan-17|3 seasons, 25 epi...|            3|            25| 36–64 min.|       36|       64|     Ended|     0|Drama| English|2021-03-16T21:20:...|\n",
            "|      13 Reasons Why|  Teen drama/mystery|  teen,drama,mystery|31-Mar-17|2 seasons, 26 epi...|            2|            26| 49–70 min.|       49|       70|   Renewed|     1|Drama| English|2021-03-16T21:20:...|\n",
            "|               Gypsy|Psychological thr...|psychological,thr...|30-Jun-17|1 season, 10 epis...|            1|            10| 46–58 min.|       46|       58|     Ended|     0|Drama| English|2021-03-16T21:20:...|\n",
            "|               Ozark|         Crime drama|         crime,drama|21-Jul-17|2 seasons, 20 epi...|            2|            20| 52–80 min.|       52|       80|   Renewed|     1|Drama| English|2021-03-16T21:20:...|\n",
            "|          Mindhunter|         Crime drama|         crime,drama|13-Oct-17|1 season, 10 epis...|            1|            10| 34–60 min.|       34|       60|   Renewed|     1|Drama| English|2021-03-16T21:20:...|\n",
            "|             Godless|             Western|             western|22-Nov-17|          7 episodes|            0|             7| 41–80 min.|       41|       80|Miniseries|     0|Drama| English|2021-03-16T21:20:...|\n",
            "|      Altered Carbon|     Science fiction|     science-fiction| 2-Feb-18|1 season, 10 epis...|            1|            10| 46–66 min.|       46|       66|   Renewed|     1|Drama| English|2021-03-16T21:20:...|\n",
            "|       Seven Seconds|         Crime drama|         crime,drama|23-Feb-18|1 season, 10 epis...|            1|            10| 54–80 min.|       54|       80|     Ended|     0|Drama| English|2021-03-16T21:20:...|\n",
            "+--------------------+--------------------+--------------------+---------+--------------------+-------------+--------------+-----------+---------+---------+----------+------+-----+--------+--------------------+\n",
            "only showing top 20 rows\n",
            "\n"
          ]
        }
      ]
    },
    {
      "cell_type": "code",
      "source": [
        "cols = ['Active', 'Genre']\n",
        "\n",
        "df_first_step = df.select('*').withColumn(\"dt_inclusao_date\",df['dt_inclusao'].cast(DateType()))\\\n",
        "                              .withColumn(\"Premiere_date\",df['Premiere'].cast(TimestampType())).orderBy(cols, ascending= False )\n",
        "\n",
        "# Não consegui transformar a coluna PREMIERE em formato de data, nenhuma conversão ela aceitava, trazia o erro \"AttributeError: 'str' object has no attribute 'toordinal'\",\n",
        "# tentei de várias formas. Creio que seja porque ela é um número binário pelo que entendi.\n",
        "\n",
        "df_second_step = df_first_step.withColumn('Seasons_format', regexp_replace('Seasons', 'TBA', 'a ser anunciado'))\n",
        "\n",
        "\n",
        "df_third_step = df_second_step.withColumn('Data de Alteração', f.current_timestamp())\n",
        "\n",
        "df_fourth_step = df_third_step.select(col('Title').alias('Título'),col('Genre').alias('Gênero'),col('GenreLabels').alias('Rótulos de Gênero')\n",
        "                                      ,col('Premiere').alias('Pré Estreia'),col('Seasons_format').alias('Temporadas'),col('SeasonsParsed').alias('Temporadas Analisadas')\n",
        "                                      ,col('EpisodesParsed').alias('Episódios Analisados'),col('Length').alias('Comprimento')\n",
        "                                      ,col('MinLength').alias('Comprimento Mínimo'),col('MaxLength').alias('Comprimento Máximo'),col('Status')\n",
        "                                      ,col('Active').alias('Ativo'),col('Table').alias('Tabela'),col('Language').alias('Linguagem'),col('dt_inclusao_date').alias('dt_inclusao'),col('Data de Alteração'))\n",
        "\n",
        "\n",
        "df_fifth_step = df_fourth_step.select(col('Título'),col('Gênero'),col('Temporadas'),col('Pré Estreia'),col('Linguagem'),col('Ativo'),col('Status'),col('dt_inclusao'),col('Data de Alteração'))\n",
        "\n",
        "df_fifth_step.show() \n",
        "\n",
        "\n",
        "df_fifth_step.write.option(\"header\",True)\\\n",
        "        .option(\"delimiter\",\";\")\\\n",
        "        .csv(\"/content/sample_data/teste.csv\")"
      ],
      "metadata": {
        "colab": {
          "base_uri": "https://localhost:8080/"
        },
        "id": "yRV0ruYRxrpN",
        "outputId": "36993753-3eeb-4dae-8a73-c75947cdc5f1"
      },
      "execution_count": 13,
      "outputs": [
        {
          "output_type": "stream",
          "name": "stdout",
          "text": [
            "+--------------------+--------------------+--------------------+-----------+---------+-----+-------+-----------+--------------------+\n",
            "|              Título|              Gênero|          Temporadas|Pré Estreia|Linguagem|Ativo| Status|dt_inclusao|   Data de Alteração|\n",
            "+--------------------+--------------------+--------------------+-----------+---------+-----+-------+-----------+--------------------+\n",
            "|          True Tunes|chrildrens musica...|     a ser anunciado|  12-Jul-19|  English|    1|Pending| 2021-03-16|2022-03-10 13:02:...|\n",
            "|Super Monsters Mo...|chrildrens musica...|1 season, 4 episodes|  14-Sep-18|  English|    1|Pending| 2021-03-16|2022-03-10 13:02:...|\n",
            "|Dance & Sing with...|chrildrens musica...|1 season, 11 epis...|  18-May-18|  English|    1|Pending| 2021-03-16|2022-03-10 13:02:...|\n",
            "|      Super Monsters| childrens-animation|2 seasons, 16 epi...|  13-Oct-17|  English|    1|Renewed| 2021-03-16|2022-03-10 13:02:...|\n",
            "|Charlie's Colorfo...| childrens-animation|1 season, 13 epis...|  22-Mar-19|  English|    1|Pending| 2021-03-16|2022-03-10 13:02:...|\n",
            "|Stretch Armstrong...| childrens-animation|2 seasons, 23 epi...|  17-Nov-17|  English|    1|Pending| 2021-03-16|2022-03-10 13:02:...|\n",
            "|YooHoo to the Rescue| childrens-animation|1 season, 26 epis...|  15-Mar-19|  English|    1|Pending| 2021-03-16|2022-03-10 13:02:...|\n",
            "|Cupcake & Dino: G...| childrens-animation|2 seasons, 26 epi...|  27-Jul-18|  English|    1|Pending| 2021-03-16|2022-03-10 13:02:...|\n",
            "|   The Dragon Prince| childrens-animation|2 seasons, 18 epi...|  14-Sep-18|  English|    1|Renewed| 2021-03-16|2022-03-10 13:02:...|\n",
            "|          The Hollow| childrens-animation|1 season, 10 epis...|   8-Jun-18|  English|    1|Renewed| 2021-03-16|2022-03-10 13:02:...|\n",
            "|        Larva Island| childrens-animation|2 seasons, 26 epi...|  19-Oct-18|  English|    1|Pending| 2021-03-16|2022-03-10 13:02:...|\n",
            "|Harvey Girls Fore...| childrens-animation|2 seasons, 26 epi...|  29-Jun-18|  English|    1|Pending| 2021-03-16|2022-03-10 13:02:...|\n",
            "|Kulipari: Dream W...| childrens-animation|1 season, 10 epis...|  20-Nov-18|  English|    1|Pending| 2021-03-16|2022-03-10 13:02:...|\n",
            "|     Carmen Sandiego| childrens-animation|1 season, 9 episodes|  18-Jan-19|  English|    1|Renewed| 2021-03-16|2022-03-10 13:02:...|\n",
            "|   Ask the StoryBots| childrens-animation|2 seasons, 14 epi...|  12-Aug-16|  English|    1|Renewed| 2021-03-16|2022-03-10 13:02:...|\n",
            "|               Hilda| childrens-animation|1 season, 13 epis...|  21-Sep-18|  English|    1|Renewed| 2021-03-16|2022-03-10 13:02:...|\n",
            "|  Spirit Riding Free| childrens-animation|8 seasons, 52 epi...|   5-May-17|  English|    1|Pending| 2021-03-16|2022-03-10 13:02:...|\n",
            "|         Llama Llama| childrens-animation|1 season, 15 epis...|  26-Jan-18|  English|    1|Renewed| 2021-03-16|2022-03-10 13:02:...|\n",
            "|She-Ra and the Pr...| childrens-animation|2 seasons, 20 epi...|  13-Nov-18|  English|    1|Renewed| 2021-03-16|2022-03-10 13:02:...|\n",
            "|Spy Kids: Mission...| childrens-animation|2 seasons, 20 epi...|  20-Apr-18|  English|    1|Pending| 2021-03-16|2022-03-10 13:02:...|\n",
            "+--------------------+--------------------+--------------------+-----------+---------+-----+-------+-----------+--------------------+\n",
            "only showing top 20 rows\n",
            "\n"
          ]
        }
      ]
    },
    {
      "cell_type": "code",
      "source": [
        ""
      ],
      "metadata": {
        "id": "ntX10vkSxruM"
      },
      "execution_count": null,
      "outputs": []
    }
  ]
}