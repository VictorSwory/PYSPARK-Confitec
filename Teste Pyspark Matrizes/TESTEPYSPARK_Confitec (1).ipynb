{
  "nbformat": 4,
  "nbformat_minor": 0,
  "metadata": {
    "colab": {
      "name": "TESTEPYSPARK-Confitec.ipynb",
      "provenance": []
    },
    "kernelspec": {
      "name": "python3",
      "display_name": "Python 3"
    },
    "language_info": {
      "name": "python"
    }
  },
  "cells": [
    {
      "cell_type": "code",
      "source": [
        "import numpy as np\n",
        "\n",
        "A = np.random.randint(1, 1000, size=(4,4))\n",
        "B = np.random.randint(1, 1000, size=(4,4))\n",
        " \n",
        "     \n",
        "result = [[0, 0, 0, 0],\n",
        "        [0, 0, 0, 0],\n",
        "        [0, 0, 0, 0],\n",
        "        [0, 0, 0, 0]]\n",
        " \n",
        "\n",
        "for i in range(len(A)):\n",
        " \n",
        "    \n",
        "    for j in range(len(B[0])):\n",
        " \n",
        "        \n",
        "        for k in range(len(B)):\n",
        "            result[i][j] += A[i][k] * B[k][j]\n",
        "\n",
        "\n",
        "print('A =',A)\n",
        "print('B =', B)\n",
        "print('Product:')\n",
        "for r in result:\n",
        "                print(r)\n"
      ],
      "metadata": {
        "colab": {
          "base_uri": "https://localhost:8080/"
        },
        "id": "wsku4f8FHRhi",
        "outputId": "34927913-8ba2-4c56-ea23-4b87969c0f38"
      },
      "execution_count": 29,
      "outputs": [
        {
          "output_type": "stream",
          "name": "stdout",
          "text": [
            "A = [[613 856 715 809]\n",
            " [936 248 520 904]\n",
            " [381 146 326 122]\n",
            " [209 521 833 122]]\n",
            "B = [[372 989 313 599]\n",
            " [881 608 973 580]\n",
            " [183 245 742 589]\n",
            " [126 796 778 233]]\n",
            "Product:\n",
            "[1214951, 1945844, 2184689, 1473299]\n",
            "[775744, 1923472, 1623424, 1221416]\n",
            "[345388, 642559, 598119, 533339]\n",
            "[704560, 824666, 1285352, 946434]\n"
          ]
        }
      ]
    },
    {
      "cell_type": "code",
      "source": [
        ""
      ],
      "metadata": {
        "id": "TnNNTvPgHYzw"
      },
      "execution_count": null,
      "outputs": []
    }
  ]
}